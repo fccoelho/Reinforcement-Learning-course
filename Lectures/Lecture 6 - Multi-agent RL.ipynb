{
 "cells": [
  {
   "cell_type": "markdown",
   "metadata": {},
   "source": [
    "# Multi-agent Reinforcement Learning\n",
    "Multi-agent Reinforcement Learning is a very interesting topic. It is a very active area of research and there are many different approaches to it. In this lecture, we will discuss some of the most popular approaches to multi-agent RL. We will also discuss some of the challenges in multi-agent RL and how to overcome them.\n",
    "\n",
    "Some examples of multi-agent RL are:\n",
    "- Multi-agent games such as chess, checkers, and Go\n",
    "- Multi-agent robotics such as self-driving cars\n",
    "- Multi-agent finance such as stock trading\n",
    "\n",
    "\n",
    "\n",
    "## Types of Multi-agent RL\n",
    "In multi-agent RL, we have multiple agents interacting with each other and the environment. The agents can be homogeneous or heterogeneous. In homogeneous multi-agent RL, all the agents are identical. In heterogeneous multi-agent RL, the agents are different. The agents can be cooperative or competitive. In cooperative multi-agent RL, the agents work together to achieve a common goal. In competitive multi-agent RL, the agents compete with each other to achieve their own goals. The agents can also be a combination of cooperative and competitive. The agents can also be centralized or decentralized. In centralized multi-agent RL, all the agents share the same observation space, action space, reward function, and policy. In decentralized multi-agent RL, each agent has its own observation space, action space, reward function, and policy. \n",
    "\n",
    "A famous example of a combination of collaborative and competitive RL, is the [hide-and-seek experiment](https://youtu.be/Lu56xVlZ40M?si=DuVMaGxUQfi6pcHk) from OpenAI. \n",
    "\n",
    "### Homogeneous Multi-agent RL\n",
    "In homogeneous multi-agent RL, all the agents are identical. They have the same observation space, action space, reward function, and policy. They still can behave differently because of the randomness in the environment and action selection from the policy.\n",
    "\n",
    "### Heterogeneous Multi-agent RL\n",
    "In heterogeneous multi-agent RL, the agents are different. They have different observation spaces, action spaces, reward functions, and policies. \n",
    "\n",
    "### Cooperative Multi-agent RL\n",
    "In cooperative multi-agent RL, the agents work together to achieve a common goal. \n",
    "\n",
    "\n",
    "## Petting Zoo library for Multi-agent RL\n",
    "[PettingZoo](https://pettingzoo.farama.org/) is a Python library for multi-agent RL. It contains many different environments for multi-agent RL. It also contains many different algorithms for multi-agent RL. \n",
    "\n",
    "## MARLlib library for Multi-agent RL\n",
    "[MARLlib](https://marllib.readthedocs.io/en/latest/) is a Python library for multi-agent RL. It contains many different algorithms for multi-agent RL. It also contains many different environments for multi-agent RL."
   ]
  },
  {
   "cell_type": "code",
   "execution_count": null,
   "metadata": {},
   "outputs": [],
   "source": []
  },
  {
   "metadata": {},
   "cell_type": "markdown",
   "source": [
    "## References\n",
    "1 - [Multi-agent Reinforcement Learning: Tutorial](https://huggingface.co/learn/deep-rl-course/unit7/introduction)"
   ]
  }
 ],
 "metadata": {
  "language_info": {
   "name": "python"
  },
  "orig_nbformat": 4
 },
 "nbformat": 4,
 "nbformat_minor": 2
}
