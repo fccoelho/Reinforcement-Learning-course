{
 "cells": [
  {
   "cell_type": "markdown",
   "metadata": {},
   "source": [
    "# Application of MCTS to Simple Games\n",
    "## What is Monte Carlo Tree Search?\n",
    "Monte carlo tree search, or MCTS in short, is a search algorithm that uses random sampling to find the solution to a problem. It is a heuristic search algorithm that is used in decision-making and game theory. It is a best-first search algorithm that builds a tree of nodes that are visited during the search. The nodes are visited based on a selection policy. The selection policy is based on the value of the node. The value of the node is calculated using the results of random simulations. The node with the highest value is selected for further expansion. The algorithm is iterative and continues until a solution is found or a predefined number of iterations is reached.\n",
    "\n",
    "Let's look at the algorithm applied to a simple game of tic-tac-toe. The algorithm is iterative and starts with an empty board, which is represented by the root node of the tree. The algorithm then selects a node to expand. Nodes are particular states of a game, i.e. a board configuration as shown in the figure below. The goal of the algorithm is to estimate the values of nodes. The value of the node is calculated using the results of random simulations (full games starting from that node). The game ends when it reaches a terminal node, a node from which no further move is possible. MCTS traverses the tree from the root node to a terminal node. The algorithm then backpropagates the results of the simulation to the nodes on the path from the root node to the terminal node. The value of the node is updated based on the results of the simulation. The algorithm then selects the node with the highest value for further expansion. The algorithm continues until a solution is found or a predefined number of iterations is reached.\n",
    "![MCTS](https://int8.io/wp-content/uploads/2018/02/labeled-tic-tac-toe-game-tree-for-monte-carlo-tree-search.png)\n",
    "\n",
    "Nodes are said to be fully expanded when all its children have been visited. The algorithm then selects the unvisited node with the highest value for further expansion. The algorithm continues until a solution is found or a predefined number of iterations is reached. Simulations staring on a chosen node are called rollouts. Only the starting nodes of rollouts are marked as visited. The criterion for node selection is called the rollout policy. \n",
    "\n",
    "## Backpropagation\n",
    "The results of the simulation are backpropagated to all the nodes on the path from the terminal node to the root node. The value of the node is updated based on the results of the simulation. The value of the node is based on two main statistics:\n",
    "- the number of times the node $s$ was visited, denoted by $N(s)$\n",
    "- the Total simulation reward of the node, denoted by $Q(s)$ which is the sum of all rewards passing through node $s$.\n",
    "\n",
    "The rollout policy tries to balance exploration and exploitation. The exploration term is based on the number of times the node was visited. The exploitation term is based on the total simulation reward of the node. The value of the node, also known as Upper Confidence Bound for trees ($UCT$), is calculated as follows:\n",
    "\\begin{equation}\n",
    "UCT(s) = \\frac{Q(s)}{N(s)} + c \\sqrt{\\frac{\\log N(p)}{N(s)}}  \n",
    "\\end{equation}\n",
    "where $p$ is the parent node of $s$ and $c$ is a constant that controls the balance between exploration and exploitation. The value of $c$ is usually set to $\\sqrt{2}$.\n",
    "\n",
    "In AlphaGo, they used a variant of the UCT shown above, that also included a prior probability choosing a move. This prior probability was calculated using a neural network.\n",
    "\n",
    "\n",
    "These examples are reproduced from [this repository](https://github.com/int8/monte-carlo-tree-search)\n",
    "## Tic Tac Toe"
   ]
  },
  {
   "metadata": {
    "ExecuteTime": {
     "end_time": "2025-09-24T14:03:58.603594Z",
     "start_time": "2025-09-24T14:03:55.663433Z"
    }
   },
   "cell_type": "code",
   "source": "!pip install mctspy",
   "outputs": [
    {
     "name": "stdout",
     "output_type": "stream",
     "text": [
      "Collecting mctspy\r\n",
      "  Downloading mctspy-0.1.1-py3-none-any.whl.metadata (1.8 kB)\r\n",
      "Requirement already satisfied: numpy>=1.9.1 in /home/fccoelho/MEGAsync/Cursos/Reinforcement_Learning/Reinforcement_Learning_course/.venv/lib/python3.13/site-packages (from mctspy) (2.2.6)\r\n",
      "Downloading mctspy-0.1.1-py3-none-any.whl (6.3 kB)\r\n",
      "Installing collected packages: mctspy\r\n",
      "Successfully installed mctspy-0.1.1\r\n"
     ]
    }
   ],
   "execution_count": 2
  },
  {
   "cell_type": "code",
   "metadata": {
    "ExecuteTime": {
     "end_time": "2025-09-24T14:04:01.457166Z",
     "start_time": "2025-09-24T14:04:01.448829Z"
    }
   },
   "source": [
    "import numpy as np\n",
    "from mctspy.tree.nodes import TwoPlayersGameMonteCarloTreeSearchNode\n",
    "from mctspy.tree.search import MonteCarloTreeSearch\n",
    "from mctspy.games.examples.tictactoe import TicTacToeGameState"
   ],
   "outputs": [],
   "execution_count": 3
  },
  {
   "cell_type": "code",
   "metadata": {
    "ExecuteTime": {
     "end_time": "2025-09-24T14:04:11.408606Z",
     "start_time": "2025-09-24T14:04:03.631142Z"
    }
   },
   "source": [
    "state = np.zeros((3,3))\n",
    "initial_board_state = TicTacToeGameState(state = state, next_to_move=1)\n",
    "\n",
    "root = TwoPlayersGameMonteCarloTreeSearchNode(state = initial_board_state)\n",
    "mcts = MonteCarloTreeSearch(root)\n",
    "best_node = mcts.best_action(10000)\n"
   ],
   "outputs": [],
   "execution_count": 4
  },
  {
   "cell_type": "code",
   "metadata": {
    "ExecuteTime": {
     "end_time": "2025-09-24T14:04:14.364895Z",
     "start_time": "2025-09-24T14:04:14.350937Z"
    }
   },
   "source": [
    "best_node.state.board"
   ],
   "outputs": [
    {
     "data": {
      "text/plain": [
       "array([[0., 0., 0.],\n",
       "       [0., 1., 0.],\n",
       "       [0., 0., 0.]])"
      ]
     },
     "execution_count": 5,
     "metadata": {},
     "output_type": "execute_result"
    }
   ],
   "execution_count": 5
  },
  {
   "cell_type": "code",
   "metadata": {
    "ExecuteTime": {
     "end_time": "2025-09-24T14:04:21.026939Z",
     "start_time": "2025-09-24T14:04:21.022153Z"
    }
   },
   "source": [
    "best_node.state.next_to_move"
   ],
   "outputs": [
    {
     "data": {
      "text/plain": [
       "-1"
      ]
     },
     "execution_count": 6,
     "metadata": {},
     "output_type": "execute_result"
    }
   ],
   "execution_count": 6
  },
  {
   "cell_type": "markdown",
   "metadata": {},
   "source": [
    "## Connect Four"
   ]
  },
  {
   "cell_type": "code",
   "metadata": {
    "ExecuteTime": {
     "end_time": "2025-09-24T14:04:35.909113Z",
     "start_time": "2025-09-24T14:04:35.905450Z"
    }
   },
   "source": [
    "from mctspy.games.examples.tictactoe import TicTacToeGameState, TicTacToeMove\n",
    "from mctspy.games.common import TwoPlayersAbstractGameState, AbstractGameAction\n"
   ],
   "outputs": [],
   "execution_count": 7
  },
  {
   "cell_type": "code",
   "metadata": {
    "ExecuteTime": {
     "end_time": "2025-09-24T14:04:37.825247Z",
     "start_time": "2025-09-24T14:04:37.812078Z"
    }
   },
   "source": [
    "class TicTacToeGameState(TwoPlayersAbstractGameState):\n",
    "\n",
    "    x = 1\n",
    "    o = -1\n",
    "\n",
    "    def __init__(self, state, next_to_move=1, win=None):\n",
    "        if len(state.shape) != 2 or state.shape[0] != state.shape[1]:\n",
    "            raise ValueError(\"Only 2D square boards allowed\")\n",
    "        self.board = state\n",
    "        self.board_size = state.shape[0]\n",
    "        if win is None:\n",
    "            win = self.board_size\n",
    "        self.win = win\n",
    "        self.next_to_move = next_to_move\n",
    "\n",
    "    @property\n",
    "    def game_result(self):\n",
    "        # check if game is over\n",
    "        for i in range(self.board_size - self.win + 1):\n",
    "            rowsum = np.sum(self.board[i:i+self.win], 0)\n",
    "            colsum = np.sum(self.board[:,i:i+self.win], 1)\n",
    "            if rowsum.max() == self.win or colsum.max() == self.win:\n",
    "                return self.x\n",
    "            if rowsum.min() == -self.win or colsum.min() == -self.win:\n",
    "                return self.o\n",
    "        for i in range(self.board_size - self.win + 1):\n",
    "            for j in range(self.board_size - self.win + 1):\n",
    "                sub = self.board[i:i+self.win,j:j+self.win]\n",
    "                diag_sum_tl = sub.trace()\n",
    "                diag_sum_tr = sub[::-1].trace()        \n",
    "                if diag_sum_tl == self.win or diag_sum_tr == self.win:\n",
    "                    return self.x\n",
    "                if diag_sum_tl == -self.win or diag_sum_tr == -self.win:\n",
    "                    return self.o\n",
    "\n",
    "        # draw\n",
    "        if np.all(self.board != 0):\n",
    "            return 0.\n",
    "\n",
    "        # if not over - no result\n",
    "        return None\n",
    "\n",
    "    def is_game_over(self):\n",
    "        return self.game_result is not None\n",
    "\n",
    "    def is_move_legal(self, move):\n",
    "        # check if correct player moves\n",
    "        if move.value != self.next_to_move:\n",
    "            return False\n",
    "\n",
    "        # check if inside the board on x-axis\n",
    "        x_in_range = (0 <= move.x_coordinate < self.board_size)\n",
    "        if not x_in_range:\n",
    "            return False\n",
    "\n",
    "        # check if inside the board on y-axis\n",
    "        y_in_range = (0 <= move.y_coordinate < self.board_size)\n",
    "        if not y_in_range:\n",
    "            return False\n",
    "\n",
    "        # finally check if board field not occupied ye\n",
    "        return self.board[move.x_coordinate, move.y_coordinate] == 0\n",
    "\n",
    "    def move(self, move):\n",
    "        if not self.is_move_legal(move):\n",
    "            raise ValueError(\n",
    "                \"move {0} on board {1} is not legal\". format(move, self.board)\n",
    "            )\n",
    "        new_board = np.copy(self.board)\n",
    "        new_board[move.x_coordinate, move.y_coordinate] = move.value\n",
    "        if self.next_to_move == self.x:\n",
    "            next_to_move = self.o\n",
    "        else:\n",
    "            next_to_move = self.x\n",
    "        return type(self)(new_board, next_to_move, self.win)\n",
    "\n",
    "    def get_legal_actions(self):\n",
    "        indices = np.where(self.board == 0)\n",
    "        return [\n",
    "            TicTacToeMove(coords[0], coords[1], self.next_to_move)\n",
    "            for coords in list(zip(indices[0], indices[1]))\n",
    "        ]"
   ],
   "outputs": [],
   "execution_count": 8
  },
  {
   "cell_type": "code",
   "metadata": {
    "ExecuteTime": {
     "end_time": "2025-09-24T14:04:39.767914Z",
     "start_time": "2025-09-24T14:04:39.752675Z"
    }
   },
   "source": [
    "class Connect4GameState(TicTacToeGameState):\n",
    "\n",
    "    def is_move_legal(self, move):\n",
    "        # check if correct player moves\n",
    "        if move.value != self.next_to_move:\n",
    "            return False\n",
    "\n",
    "        # check if inside the board on x-axis\n",
    "        x_in_range = (0 <= move.x_coordinate < self.board_size)\n",
    "        if not x_in_range:\n",
    "            return False\n",
    "\n",
    "        # check if inside the board on y-axis\n",
    "        y_in_range = (0 <= move.y_coordinate < self.board_size)\n",
    "        if not y_in_range:\n",
    "            return False\n",
    "\n",
    "        # finally check if board field not occupied yet\n",
    "        return self.board[move.x_coordinate, move.y_coordinate] == 0 and (move.y_coordinate == 0 or self.board[move.x_coordinate, move.y_coordinate-1] != 0)\n",
    "\n",
    "    def get_legal_actions(self):\n",
    "        indices = np.where(np.count_nonzero(self.board,axis=1) != self.board_size)[0]\n",
    "        # print(indices)\n",
    "        return [\n",
    "            TicTacToeMove(i, np.count_nonzero(self.board[i,:]), self.next_to_move)\n",
    "            for i in indices\n",
    "        ]"
   ],
   "outputs": [],
   "execution_count": 9
  },
  {
   "cell_type": "code",
   "metadata": {
    "ExecuteTime": {
     "end_time": "2025-09-24T14:04:41.649613Z",
     "start_time": "2025-09-24T14:04:41.640608Z"
    }
   },
   "source": [
    "# define inital state\n",
    "state = np.zeros((7, 7))\n",
    "board_state = Connect4GameState(state=state, next_to_move=np.random.choice([-1, 1]), win=4)\n",
    "\n",
    "# link pieces to icons\n",
    "pieces = {0: \" \", 1: \"X\", -1: \"O\"}\n",
    "\n",
    "\n",
    "def stringify(row):\n",
    "    '''print a single row of the board'''\n",
    "    return \" \" + \" | \".join(map(lambda x: pieces[int(x)], row)) + \" \"\n",
    "\n",
    "\n",
    "def display(board):\n",
    "    '''Display the whole board'''\n",
    "    board = board.copy().T[::-1]\n",
    "    for row in board[:-1]:\n",
    "        print(stringify(row))\n",
    "        print(\"-\"*(len(row)*4-1))\n",
    "    print(stringify(board[-1]))\n",
    "    print()"
   ],
   "outputs": [],
   "execution_count": 10
  },
  {
   "cell_type": "code",
   "metadata": {
    "ExecuteTime": {
     "end_time": "2025-09-24T14:04:46.721035Z",
     "start_time": "2025-09-24T14:04:43.560214Z"
    }
   },
   "source": [
    "display(board_state.board)\n",
    "# keep playing until game terminates\n",
    "while board_state.game_result is None:\n",
    "    # calculate best move\n",
    "    root = TwoPlayersGameMonteCarloTreeSearchNode(state=board_state)\n",
    "    mcts = MonteCarloTreeSearch(root)\n",
    "    best_node = mcts.best_action(simulations_number=50)#total_simulation_seconds=1)\n",
    "\n",
    "    # update board\n",
    "    board_state = best_node.state\n",
    "    # display board\n",
    "    display(board_state.board)\n",
    "\n",
    "# print result\n",
    "print(pieces[board_state.game_result])"
   ],
   "outputs": [
    {
     "name": "stdout",
     "output_type": "stream",
     "text": [
      "   |   |   |   |   |   |   \n",
      "---------------------------\n",
      "   |   |   |   |   |   |   \n",
      "---------------------------\n",
      "   |   |   |   |   |   |   \n",
      "---------------------------\n",
      "   |   |   |   |   |   |   \n",
      "---------------------------\n",
      "   |   |   |   |   |   |   \n",
      "---------------------------\n",
      "   |   |   |   |   |   |   \n",
      "---------------------------\n",
      "   |   |   |   |   |   |   \n",
      "\n",
      "   |   |   |   |   |   |   \n",
      "---------------------------\n",
      "   |   |   |   |   |   |   \n",
      "---------------------------\n",
      "   |   |   |   |   |   |   \n",
      "---------------------------\n",
      "   |   |   |   |   |   |   \n",
      "---------------------------\n",
      "   |   |   |   |   |   |   \n",
      "---------------------------\n",
      "   |   |   |   |   |   |   \n",
      "---------------------------\n",
      "   |   |   |   | X |   |   \n",
      "\n",
      "   |   |   |   |   |   |   \n",
      "---------------------------\n",
      "   |   |   |   |   |   |   \n",
      "---------------------------\n",
      "   |   |   |   |   |   |   \n",
      "---------------------------\n",
      "   |   |   |   |   |   |   \n",
      "---------------------------\n",
      "   |   |   |   |   |   |   \n",
      "---------------------------\n",
      "   |   |   |   |   |   |   \n",
      "---------------------------\n",
      "   |   |   |   | X | O |   \n",
      "\n",
      "   |   |   |   |   |   |   \n",
      "---------------------------\n",
      "   |   |   |   |   |   |   \n",
      "---------------------------\n",
      "   |   |   |   |   |   |   \n",
      "---------------------------\n",
      "   |   |   |   |   |   |   \n",
      "---------------------------\n",
      "   |   |   |   |   |   |   \n",
      "---------------------------\n",
      "   |   |   |   | X |   |   \n",
      "---------------------------\n",
      "   |   |   |   | X | O |   \n",
      "\n",
      "   |   |   |   |   |   |   \n",
      "---------------------------\n",
      "   |   |   |   |   |   |   \n",
      "---------------------------\n",
      "   |   |   |   |   |   |   \n",
      "---------------------------\n",
      "   |   |   |   |   |   |   \n",
      "---------------------------\n",
      "   |   |   |   |   |   |   \n",
      "---------------------------\n",
      "   |   |   |   | X |   |   \n",
      "---------------------------\n",
      "   | O |   |   | X | O |   \n",
      "\n",
      "   |   |   |   |   |   |   \n",
      "---------------------------\n",
      "   |   |   |   |   |   |   \n",
      "---------------------------\n",
      "   |   |   |   |   |   |   \n",
      "---------------------------\n",
      "   |   |   |   |   |   |   \n",
      "---------------------------\n",
      "   |   |   |   |   |   |   \n",
      "---------------------------\n",
      "   |   |   |   | X | X |   \n",
      "---------------------------\n",
      "   | O |   |   | X | O |   \n",
      "\n",
      "   |   |   |   |   |   |   \n",
      "---------------------------\n",
      "   |   |   |   |   |   |   \n",
      "---------------------------\n",
      "   |   |   |   |   |   |   \n",
      "---------------------------\n",
      "   |   |   |   |   |   |   \n",
      "---------------------------\n",
      "   |   |   |   | O |   |   \n",
      "---------------------------\n",
      "   |   |   |   | X | X |   \n",
      "---------------------------\n",
      "   | O |   |   | X | O |   \n",
      "\n",
      "   |   |   |   |   |   |   \n",
      "---------------------------\n",
      "   |   |   |   |   |   |   \n",
      "---------------------------\n",
      "   |   |   |   |   |   |   \n",
      "---------------------------\n",
      "   |   |   |   | X |   |   \n",
      "---------------------------\n",
      "   |   |   |   | O |   |   \n",
      "---------------------------\n",
      "   |   |   |   | X | X |   \n",
      "---------------------------\n",
      "   | O |   |   | X | O |   \n",
      "\n",
      "   |   |   |   |   |   |   \n",
      "---------------------------\n",
      "   |   |   |   |   |   |   \n",
      "---------------------------\n",
      "   |   |   |   |   |   |   \n",
      "---------------------------\n",
      "   |   |   |   | X |   |   \n",
      "---------------------------\n",
      "   |   |   |   | O |   |   \n",
      "---------------------------\n",
      "   |   |   |   | X | X |   \n",
      "---------------------------\n",
      "   | O |   | O | X | O |   \n",
      "\n",
      "   |   |   |   |   |   |   \n",
      "---------------------------\n",
      "   |   |   |   |   |   |   \n",
      "---------------------------\n",
      "   |   |   |   |   |   |   \n",
      "---------------------------\n",
      "   |   |   |   | X |   |   \n",
      "---------------------------\n",
      "   |   |   |   | O |   |   \n",
      "---------------------------\n",
      "   |   |   | X | X | X |   \n",
      "---------------------------\n",
      "   | O |   | O | X | O |   \n",
      "\n",
      "   |   |   |   |   |   |   \n",
      "---------------------------\n",
      "   |   |   |   |   |   |   \n",
      "---------------------------\n",
      "   |   |   |   |   |   |   \n",
      "---------------------------\n",
      "   |   |   |   | X |   |   \n",
      "---------------------------\n",
      "   |   |   |   | O |   |   \n",
      "---------------------------\n",
      "   |   |   | X | X | X |   \n",
      "---------------------------\n",
      "   | O | O | O | X | O |   \n",
      "\n",
      "   |   |   |   |   |   |   \n",
      "---------------------------\n",
      "   |   |   |   |   |   |   \n",
      "---------------------------\n",
      "   |   |   |   |   |   |   \n",
      "---------------------------\n",
      "   |   |   |   | X |   |   \n",
      "---------------------------\n",
      "   |   |   |   | O |   |   \n",
      "---------------------------\n",
      "   |   | X | X | X | X |   \n",
      "---------------------------\n",
      "   | O | O | O | X | O |   \n",
      "\n",
      "X\n"
     ]
    }
   ],
   "execution_count": 11
  },
  {
   "cell_type": "code",
   "execution_count": null,
   "metadata": {},
   "outputs": [],
   "source": []
  },
  {
   "cell_type": "code",
   "execution_count": null,
   "metadata": {},
   "outputs": [],
   "source": []
  }
 ],
 "metadata": {
  "kernelspec": {
   "display_name": "rl_course-7WGwJrRk-py3.11",
   "language": "python",
   "name": "python3"
  },
  "language_info": {
   "codemirror_mode": {
    "name": "ipython",
    "version": 3
   },
   "file_extension": ".py",
   "mimetype": "text/x-python",
   "name": "python",
   "nbconvert_exporter": "python",
   "pygments_lexer": "ipython3",
   "version": "3.11.4"
  },
  "orig_nbformat": 4
 },
 "nbformat": 4,
 "nbformat_minor": 2
}
