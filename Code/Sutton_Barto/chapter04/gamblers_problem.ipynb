{
 "cells": [
  {
   "cell_type": "markdown",
   "id": "86f7676c-c9f9-40b3-8b24-dbb281c58e2e",
   "metadata": {},
   "source": [
    "# Gamblers problem"
   ]
  },
  {
   "cell_type": "code",
   "execution_count": 1,
   "id": "27a07ba7-45a2-4921-b1ea-f183287f2639",
   "metadata": {},
   "outputs": [],
   "source": [
    "#######################################################################\n",
    "# Copyright (C)                                                       #\n",
    "# 2016-2018 Shangtong Zhang(zhangshangtong.cpp@gmail.com)             #\n",
    "# 2016 Kenta Shimada(hyperkentakun@gmail.com)                         #\n",
    "# Permission given to modify the code as long as you keep this        #\n",
    "# declaration at the top                                              #\n",
    "#######################################################################\n",
    "\n",
    "import matplotlib\n",
    "import matplotlib.pyplot as plt\n",
    "import numpy as np"
   ]
  },
  {
   "cell_type": "code",
   "execution_count": 2,
   "id": "22c2dcec-5bcc-4f82-bd9b-15bd4a663dc3",
   "metadata": {},
   "outputs": [],
   "source": [
    "# goal\n",
    "GOAL = 100\n",
    "\n",
    "# all states, including state 0 and state 100\n",
    "STATES = np.arange(GOAL + 1)\n",
    "\n",
    "# probability of head\n",
    "HEAD_PROB = 0.4"
   ]
  },
  {
   "cell_type": "code",
   "execution_count": 4,
   "id": "463ca7bc-6373-4090-9d9a-4e06b0e2f5d3",
   "metadata": {},
   "outputs": [],
   "source": [
    "# state value\n",
    "state_value = np.zeros(GOAL + 1)\n",
    "state_value[GOAL] = 1.0"
   ]
  },
  {
   "cell_type": "code",
   "execution_count": 5,
   "id": "c815e23c-d5a0-4acc-85d6-28fccf2f0ca6",
   "metadata": {},
   "outputs": [],
   "source": [
    "sweeps_history = []\n",
    "\n",
    "# value iteration\n",
    "while True:\n",
    "    old_state_value = state_value.copy()\n",
    "    sweeps_history.append(old_state_value)\n",
    "\n",
    "    for state in STATES[1:GOAL]:\n",
    "        # get possible actions for current state\n",
    "        actions = np.arange(min(state, GOAL - state) + 1)\n",
    "        action_returns = []\n",
    "        for action in actions:\n",
    "            action_returns.append(\n",
    "                HEAD_PROB * state_value[state + action] + (1 - HEAD_PROB) * state_value[state - action])\n",
    "        new_value = np.max(action_returns)\n",
    "        state_value[state] = new_value\n",
    "    delta = abs(state_value - old_state_value).max()\n",
    "    if delta < 1e-9:\n",
    "        sweeps_history.append(state_value)\n",
    "        break"
   ]
  },
  {
   "cell_type": "code",
   "execution_count": 6,
   "id": "1176bc4b-68bc-46b0-8e90-45f2692debe5",
   "metadata": {},
   "outputs": [],
   "source": [
    "# compute the optimal policy\n",
    "policy = np.zeros(GOAL + 1)\n",
    "\n",
    "for state in STATES[1:GOAL]:\n",
    "    actions = np.arange(min(state, GOAL - state) + 1)\n",
    "    action_returns = []\n",
    "    for action in actions:\n",
    "        action_returns.append(\n",
    "            HEAD_PROB * state_value[state + action] + (1 - HEAD_PROB) * state_value[state - action])\n",
    "\n",
    "    # round to resemble the figure in the book, see\n",
    "    # https://github.com/ShangtongZhang/reinforcement-learning-an-introduction/issues/83\n",
    "    policy[state] = actions[np.argmax(np.round(action_returns[1:], 5)) + 1]\n"
   ]
  },
  {
   "cell_type": "code",
   "execution_count": null,
   "id": "170eb3eb-a389-444b-8759-472c7e18ac8f",
   "metadata": {},
   "outputs": [],
   "source": [
    "def figure_4_3():\n",
    "    plt.figure(figsize=(10, 20))\n",
    "    \n",
    "    plt.subplot(2, 1, 1)\n",
    "    for sweep, state_value in enumerate(sweeps_history):\n",
    "        plt.plot(state_value, label='sweep {}'.format(sweep))\n",
    "    \n",
    "    plt.xlabel('Capital')\n",
    "    plt.ylabel('Value estimates')\n",
    "    plt.legend(loc='best')\n",
    "    \n",
    "    plt.subplot(2, 1, 2)\n",
    "    plt.scatter(STATES, policy)\n",
    "    plt.xlabel('Capital')\n",
    "    plt.ylabel('Final policy (stake)')\n",
    "    \n",
    "    plt.show()\n",
    "\n",
    "figure_4_3()"
   ]
  }
 ],
 "metadata": {
  "kernelspec": {
   "display_name": "Python 3 (ipykernel)",
   "language": "python",
   "name": "python3"
  },
  "language_info": {
   "codemirror_mode": {
    "name": "ipython",
    "version": 3
   },
   "file_extension": ".py",
   "mimetype": "text/x-python",
   "name": "python",
   "nbconvert_exporter": "python",
   "pygments_lexer": "ipython3",
   "version": "3.11.9"
  }
 },
 "nbformat": 4,
 "nbformat_minor": 5
}
